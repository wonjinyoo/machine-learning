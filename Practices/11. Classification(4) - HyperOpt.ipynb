{
 "cells": [
  {
   "cell_type": "markdown",
   "id": "0f115f39",
   "metadata": {},
   "source": [
    "## HyperOpt"
   ]
  },
  {
   "cell_type": "code",
   "execution_count": 1,
   "id": "13efb578",
   "metadata": {},
   "outputs": [],
   "source": [
    "from hyperopt import hp\n",
    "\n",
    "# 검색 공간 지정\n",
    "search_space = {'x': hp.quniform('x', -10, 10, 1), 'y':hp.quniform('y', -15, 15, 1)}"
   ]
  },
  {
   "cell_type": "code",
   "execution_count": 2,
   "id": "92445e09",
   "metadata": {},
   "outputs": [],
   "source": [
    "from hyperopt import STATUS_OK\n",
    "\n",
    "def objective_func(search_space):\n",
    "    x = search_space['x']\n",
    "    y = search_space['y']\n",
    "    retval = x**2 - 20*y\n",
    "    \n",
    "    return retval"
   ]
  },
  {
   "cell_type": "code",
   "execution_count": 3,
   "id": "43f4a472",
   "metadata": {},
   "outputs": [
    {
     "name": "stdout",
     "output_type": "stream",
     "text": [
      "100%|█████████████████████████████████████████████████████████████| 5/5 [00:00<00:00, 833.10trial/s, best loss: -224.0]\n",
      "best: {'x': -4.0, 'y': 12.0}\n"
     ]
    }
   ],
   "source": [
    "from hyperopt import fmin, tpe, Trials\n",
    "import numpy as np\n",
    "\n",
    "trial_val = Trials()\n",
    "\n",
    "best_01 = fmin(fn=objective_func, space=search_space, algo=tpe.suggest, max_evals=5,\n",
    "              trials=trial_val, rstate=np.random.default_rng(seed=0))\n",
    "print('best:', best_01)"
   ]
  },
  {
   "cell_type": "code",
   "execution_count": 4,
   "id": "6f45966b",
   "metadata": {},
   "outputs": [
    {
     "name": "stdout",
     "output_type": "stream",
     "text": [
      "100%|███████████████████████████████████████████████████████████| 20/20 [00:00<00:00, 570.51trial/s, best loss: -296.0]\n",
      "best: {'x': 2.0, 'y': 15.0}\n"
     ]
    }
   ],
   "source": [
    "trial_val = Trials()\n",
    "\n",
    "best_02 = fmin(fn=objective_func, space=search_space, algo=tpe.suggest, max_evals=20,\n",
    "              trials=trial_val, rstate=np.random.default_rng(seed=0))\n",
    "print('best:', best_02)"
   ]
  },
  {
   "cell_type": "code",
   "execution_count": 5,
   "id": "600415f7",
   "metadata": {},
   "outputs": [
    {
     "name": "stdout",
     "output_type": "stream",
     "text": [
      "[{'loss': -64.0, 'status': 'ok'}, {'loss': -184.0, 'status': 'ok'}, {'loss': 56.0, 'status': 'ok'}, {'loss': -224.0, 'status': 'ok'}, {'loss': 61.0, 'status': 'ok'}, {'loss': -296.0, 'status': 'ok'}, {'loss': -40.0, 'status': 'ok'}, {'loss': 281.0, 'status': 'ok'}, {'loss': 64.0, 'status': 'ok'}, {'loss': 100.0, 'status': 'ok'}, {'loss': 60.0, 'status': 'ok'}, {'loss': -39.0, 'status': 'ok'}, {'loss': 1.0, 'status': 'ok'}, {'loss': -164.0, 'status': 'ok'}, {'loss': 21.0, 'status': 'ok'}, {'loss': -56.0, 'status': 'ok'}, {'loss': 284.0, 'status': 'ok'}, {'loss': 176.0, 'status': 'ok'}, {'loss': -171.0, 'status': 'ok'}, {'loss': 0.0, 'status': 'ok'}]\n"
     ]
    }
   ],
   "source": [
    "# fmin()에 들어가는 Trials 객체의 result 속성에 파이썬 리스트로 목적 함수 반환값들이 저장\n",
    "print(trial_val.results)"
   ]
  },
  {
   "cell_type": "code",
   "execution_count": 6,
   "id": "84bde10d",
   "metadata": {},
   "outputs": [
    {
     "name": "stdout",
     "output_type": "stream",
     "text": [
      "{'x': [-6.0, -4.0, 4.0, -4.0, 9.0, 2.0, 10.0, -9.0, -8.0, -0.0, -0.0, 1.0, 9.0, 6.0, 9.0, 2.0, -2.0, -4.0, 7.0, -0.0], 'y': [5.0, 10.0, -2.0, 12.0, 1.0, 15.0, 7.0, -10.0, 0.0, -5.0, -3.0, 2.0, 4.0, 10.0, 3.0, 3.0, -14.0, -8.0, 11.0, -0.0]}\n"
     ]
    }
   ],
   "source": [
    "# 개별 수행 시 입력된 값의 리스트\n",
    "print(trial_val.vals)"
   ]
  },
  {
   "cell_type": "code",
   "execution_count": 7,
   "id": "ce52ec64",
   "metadata": {},
   "outputs": [
    {
     "data": {
      "text/html": [
       "<div>\n",
       "<style scoped>\n",
       "    .dataframe tbody tr th:only-of-type {\n",
       "        vertical-align: middle;\n",
       "    }\n",
       "\n",
       "    .dataframe tbody tr th {\n",
       "        vertical-align: top;\n",
       "    }\n",
       "\n",
       "    .dataframe thead th {\n",
       "        text-align: right;\n",
       "    }\n",
       "</style>\n",
       "<table border=\"1\" class=\"dataframe\">\n",
       "  <thead>\n",
       "    <tr style=\"text-align: right;\">\n",
       "      <th></th>\n",
       "      <th>x</th>\n",
       "      <th>y</th>\n",
       "      <th>losses</th>\n",
       "    </tr>\n",
       "  </thead>\n",
       "  <tbody>\n",
       "    <tr>\n",
       "      <th>0</th>\n",
       "      <td>-6.0</td>\n",
       "      <td>5.0</td>\n",
       "      <td>-64.0</td>\n",
       "    </tr>\n",
       "    <tr>\n",
       "      <th>1</th>\n",
       "      <td>-4.0</td>\n",
       "      <td>10.0</td>\n",
       "      <td>-184.0</td>\n",
       "    </tr>\n",
       "    <tr>\n",
       "      <th>2</th>\n",
       "      <td>4.0</td>\n",
       "      <td>-2.0</td>\n",
       "      <td>56.0</td>\n",
       "    </tr>\n",
       "    <tr>\n",
       "      <th>3</th>\n",
       "      <td>-4.0</td>\n",
       "      <td>12.0</td>\n",
       "      <td>-224.0</td>\n",
       "    </tr>\n",
       "    <tr>\n",
       "      <th>4</th>\n",
       "      <td>9.0</td>\n",
       "      <td>1.0</td>\n",
       "      <td>61.0</td>\n",
       "    </tr>\n",
       "    <tr>\n",
       "      <th>5</th>\n",
       "      <td>2.0</td>\n",
       "      <td>15.0</td>\n",
       "      <td>-296.0</td>\n",
       "    </tr>\n",
       "    <tr>\n",
       "      <th>6</th>\n",
       "      <td>10.0</td>\n",
       "      <td>7.0</td>\n",
       "      <td>-40.0</td>\n",
       "    </tr>\n",
       "    <tr>\n",
       "      <th>7</th>\n",
       "      <td>-9.0</td>\n",
       "      <td>-10.0</td>\n",
       "      <td>281.0</td>\n",
       "    </tr>\n",
       "    <tr>\n",
       "      <th>8</th>\n",
       "      <td>-8.0</td>\n",
       "      <td>0.0</td>\n",
       "      <td>64.0</td>\n",
       "    </tr>\n",
       "    <tr>\n",
       "      <th>9</th>\n",
       "      <td>-0.0</td>\n",
       "      <td>-5.0</td>\n",
       "      <td>100.0</td>\n",
       "    </tr>\n",
       "    <tr>\n",
       "      <th>10</th>\n",
       "      <td>-0.0</td>\n",
       "      <td>-3.0</td>\n",
       "      <td>60.0</td>\n",
       "    </tr>\n",
       "    <tr>\n",
       "      <th>11</th>\n",
       "      <td>1.0</td>\n",
       "      <td>2.0</td>\n",
       "      <td>-39.0</td>\n",
       "    </tr>\n",
       "    <tr>\n",
       "      <th>12</th>\n",
       "      <td>9.0</td>\n",
       "      <td>4.0</td>\n",
       "      <td>1.0</td>\n",
       "    </tr>\n",
       "    <tr>\n",
       "      <th>13</th>\n",
       "      <td>6.0</td>\n",
       "      <td>10.0</td>\n",
       "      <td>-164.0</td>\n",
       "    </tr>\n",
       "    <tr>\n",
       "      <th>14</th>\n",
       "      <td>9.0</td>\n",
       "      <td>3.0</td>\n",
       "      <td>21.0</td>\n",
       "    </tr>\n",
       "    <tr>\n",
       "      <th>15</th>\n",
       "      <td>2.0</td>\n",
       "      <td>3.0</td>\n",
       "      <td>-56.0</td>\n",
       "    </tr>\n",
       "    <tr>\n",
       "      <th>16</th>\n",
       "      <td>-2.0</td>\n",
       "      <td>-14.0</td>\n",
       "      <td>284.0</td>\n",
       "    </tr>\n",
       "    <tr>\n",
       "      <th>17</th>\n",
       "      <td>-4.0</td>\n",
       "      <td>-8.0</td>\n",
       "      <td>176.0</td>\n",
       "    </tr>\n",
       "    <tr>\n",
       "      <th>18</th>\n",
       "      <td>7.0</td>\n",
       "      <td>11.0</td>\n",
       "      <td>-171.0</td>\n",
       "    </tr>\n",
       "    <tr>\n",
       "      <th>19</th>\n",
       "      <td>-0.0</td>\n",
       "      <td>-0.0</td>\n",
       "      <td>0.0</td>\n",
       "    </tr>\n",
       "  </tbody>\n",
       "</table>\n",
       "</div>"
      ],
      "text/plain": [
       "       x     y  losses\n",
       "0   -6.0   5.0   -64.0\n",
       "1   -4.0  10.0  -184.0\n",
       "2    4.0  -2.0    56.0\n",
       "3   -4.0  12.0  -224.0\n",
       "4    9.0   1.0    61.0\n",
       "5    2.0  15.0  -296.0\n",
       "6   10.0   7.0   -40.0\n",
       "7   -9.0 -10.0   281.0\n",
       "8   -8.0   0.0    64.0\n",
       "9   -0.0  -5.0   100.0\n",
       "10  -0.0  -3.0    60.0\n",
       "11   1.0   2.0   -39.0\n",
       "12   9.0   4.0     1.0\n",
       "13   6.0  10.0  -164.0\n",
       "14   9.0   3.0    21.0\n",
       "15   2.0   3.0   -56.0\n",
       "16  -2.0 -14.0   284.0\n",
       "17  -4.0  -8.0   176.0\n",
       "18   7.0  11.0  -171.0\n",
       "19  -0.0  -0.0     0.0"
      ]
     },
     "execution_count": 7,
     "metadata": {},
     "output_type": "execute_result"
    }
   ],
   "source": [
    "import pandas as pd\n",
    "\n",
    "# 결과 보기 편하게 DF 형태로 생성 (수행횟수별 입력 변수 x, y와 반환값인 loss 확인)\n",
    "\n",
    "losses = [loss_dict['loss'] for loss_dict in trial_val.results]\n",
    "\n",
    "result_df = pd.DataFrame({'x': trial_val.vals['x'], 'y': trial_val.vals['y'], 'losses': losses})\n",
    "result_df"
   ]
  },
  {
   "cell_type": "markdown",
   "id": "33a9bf98",
   "metadata": {},
   "source": [
    "### HyperOpt를 이용한 XGBoost 하이퍼 파라미터 최적화"
   ]
  },
  {
   "cell_type": "code",
   "execution_count": 8,
   "id": "11781469",
   "metadata": {},
   "outputs": [],
   "source": [
    "import xgboost as xgb\n",
    "from xgboost import plot_importance\n",
    "import pandas as pd\n",
    "import numpy as np\n",
    "from sklearn.datasets import load_breast_cancer\n",
    "from sklearn.model_selection import train_test_split\n",
    "import warnings\n",
    "warnings.filterwarnings('ignore')\n",
    "\n",
    "# 데이터 로딩 및 확인\n",
    "dataset = load_breast_cancer()\n",
    "features = dataset.data\n",
    "labels = dataset.target\n",
    "\n",
    "cancer_df = pd.DataFrame(data=features, columns=dataset.feature_names)   # 31개의 속성값을 가지는 결과 확인\n",
    "cancer_df['target'] = labels   # 악성/양성 판단하는 타깃 레이블은 target에서 0,1로 나타남 \n",
    "\n",
    "X_features = cancer_df.iloc[:, :-1]\n",
    "y_label = cancer_df.iloc[:, -1]\n",
    "\n",
    "# 테스트용 data를 20%로 추출, 학습용 data를 80%로 추출\n",
    "X_train, X_test, y_train, y_test = train_test_split(X_features, y_label, test_size=0.2, random_state=156)\n",
    "\n",
    "# 학습용 data를 다시 분리 (검증용 10%)\n",
    "X_tr, X_val, y_tr, y_val = train_test_split(X_train, y_train, test_size=0.1, random_state=156)"
   ]
  },
  {
   "cell_type": "code",
   "execution_count": 9,
   "id": "153c7459",
   "metadata": {},
   "outputs": [],
   "source": [
    "from hyperopt import hp\n",
    "\n",
    "# 일정 간격 or 정규 분포한 값으로 설정\n",
    "xgb_search_space = {\n",
    "    'max_depth': hp.quniform('max_depth', 5, 20, 1),\n",
    "    'min_child_weight': hp.quniform('min_child_weight', 1, 2 ,1),\n",
    "    'learning_rate': hp.uniform('learning_rate', 0.01, 0.2),\n",
    "    'colsample_bytree': hp.uniform('colsample_bytree', 0.5, 1)\n",
    "}"
   ]
  },
  {
   "cell_type": "code",
   "execution_count": 10,
   "id": "8eaab243",
   "metadata": {},
   "outputs": [],
   "source": [
    "# 목적 함수 설정\n",
    "from sklearn.model_selection import cross_val_score\n",
    "from xgboost import XGBClassifier\n",
    "from hyperopt import STATUS_OK\n",
    "\n",
    "def objective_func(search_space):\n",
    "    # 정수형 하이퍼파라미터 변환\n",
    "    xgb_clf = XGBClassifier(n_estimators=100, max_depth=int(search_space['max_depth']),\n",
    "                           min_child_weight=int(search_space['min_child_weight']),\n",
    "                           learning_rate=search_space['learning_rate'],\n",
    "                           colsample_bytree=search_space['colsample_bytree'],\n",
    "                           eval_metric='logloss')\n",
    "    accuracy = cross_val_score(xgb_clf, X_train, y_train, scoring='accuracy', cv=3)\n",
    "    \n",
    "    # -1을 곱해서 리턴\n",
    "    return {'loss': -1*np.mean(accuracy), 'status': STATUS_OK}"
   ]
  },
  {
   "cell_type": "code",
   "execution_count": 11,
   "id": "2c4a5b74",
   "metadata": {},
   "outputs": [
    {
     "name": "stdout",
     "output_type": "stream",
     "text": [
      "100%|███████████████████████████████████████████████| 50/50 [00:21<00:00,  2.38trial/s, best loss: -0.9670616939700244]\n",
      "best: {'colsample_bytree': 0.5424149213362504, 'learning_rate': 0.12601372924444681, 'max_depth': 17.0, 'min_child_weight': 2.0}\n"
     ]
    }
   ],
   "source": [
    "# 최적 하이퍼 파라미터 도출: fmin()\n",
    "from hyperopt import fmin, tpe, Trials\n",
    "\n",
    "trial_val = Trials()\n",
    "best = fmin(fn = objective_func,\n",
    "           space = xgb_search_space,\n",
    "           algo = tpe.suggest,\n",
    "           max_evals = 50,\n",
    "           trials = trial_val, rstate = np.random.default_rng(seed=9))\n",
    "\n",
    "print('best:', best)"
   ]
  },
  {
   "cell_type": "code",
   "execution_count": 12,
   "id": "3f15bdae",
   "metadata": {},
   "outputs": [
    {
     "name": "stdout",
     "output_type": "stream",
     "text": [
      "colsample_bytree:0.54241, learning_rate:0.12601, max_depth:17, min_child_weight:2\n"
     ]
    }
   ],
   "source": [
    "print('colsample_bytree:{0}, learning_rate:{1}, max_depth:{2}, min_child_weight:{3}'.format(\n",
    "round(best['colsample_bytree'], 5), round(best['learning_rate'], 5), int(best['max_depth']), int(best['min_child_weight'])))"
   ]
  },
  {
   "cell_type": "code",
   "execution_count": 13,
   "id": "4a3d69d4",
   "metadata": {},
   "outputs": [],
   "source": [
    "from sklearn.metrics import accuracy_score, precision_score, recall_score, confusion_matrix, f1_score, roc_auc_score\n",
    "\n",
    "# 앞에서 복붙\n",
    "def get_clf_eval(y_test, pred=None, pred_proba=None):\n",
    "    confusion = confusion_matrix(y_test, pred)\n",
    "    accuracy = accuracy_score(y_test, pred)\n",
    "    precision = precision_score(y_test, pred)\n",
    "    recall = recall_score(y_test, pred)\n",
    "    f1 = f1_score(y_test, pred)\n",
    "    \n",
    "    # ROC-AUC 추가\n",
    "    roc_auc = roc_auc_score(y_test, pred_proba)\n",
    "    print('오차 행렬')\n",
    "    print(confusion)\n",
    "    \n",
    "    print('정확도: {0:.4f}, 정밀도: {1:.4f}, 재현율: {2:.4f}, F1: {3:.4f}, AUC: {4:.4f}'.format(accuracy, precision, recall, f1, roc_auc))"
   ]
  },
  {
   "cell_type": "code",
   "execution_count": 14,
   "id": "1a0e612b",
   "metadata": {},
   "outputs": [
    {
     "name": "stdout",
     "output_type": "stream",
     "text": [
      "[0]\tvalidation_0-logloss:0.58942\tvalidation_1-logloss:0.62048\n",
      "[1]\tvalidation_0-logloss:0.50801\tvalidation_1-logloss:0.55913\n",
      "[2]\tvalidation_0-logloss:0.44160\tvalidation_1-logloss:0.50928\n",
      "[3]\tvalidation_0-logloss:0.38734\tvalidation_1-logloss:0.46815\n",
      "[4]\tvalidation_0-logloss:0.34224\tvalidation_1-logloss:0.43913\n",
      "[5]\tvalidation_0-logloss:0.30425\tvalidation_1-logloss:0.41570\n",
      "[6]\tvalidation_0-logloss:0.27178\tvalidation_1-logloss:0.38953\n",
      "[7]\tvalidation_0-logloss:0.24503\tvalidation_1-logloss:0.37317\n",
      "[8]\tvalidation_0-logloss:0.22050\tvalidation_1-logloss:0.35628\n",
      "[9]\tvalidation_0-logloss:0.19873\tvalidation_1-logloss:0.33798\n",
      "[10]\tvalidation_0-logloss:0.17945\tvalidation_1-logloss:0.32463\n",
      "[11]\tvalidation_0-logloss:0.16354\tvalidation_1-logloss:0.31384\n",
      "[12]\tvalidation_0-logloss:0.15032\tvalidation_1-logloss:0.30607\n",
      "[13]\tvalidation_0-logloss:0.13813\tvalidation_1-logloss:0.30143\n",
      "[14]\tvalidation_0-logloss:0.12798\tvalidation_1-logloss:0.29513\n",
      "[15]\tvalidation_0-logloss:0.11926\tvalidation_1-logloss:0.28891\n",
      "[16]\tvalidation_0-logloss:0.11111\tvalidation_1-logloss:0.28290\n",
      "[17]\tvalidation_0-logloss:0.10351\tvalidation_1-logloss:0.27835\n",
      "[18]\tvalidation_0-logloss:0.09474\tvalidation_1-logloss:0.27295\n",
      "[19]\tvalidation_0-logloss:0.08922\tvalidation_1-logloss:0.27215\n",
      "[20]\tvalidation_0-logloss:0.08406\tvalidation_1-logloss:0.27168\n",
      "[21]\tvalidation_0-logloss:0.07892\tvalidation_1-logloss:0.27093\n",
      "[22]\tvalidation_0-logloss:0.07355\tvalidation_1-logloss:0.26561\n",
      "[23]\tvalidation_0-logloss:0.06977\tvalidation_1-logloss:0.26670\n",
      "[24]\tvalidation_0-logloss:0.06569\tvalidation_1-logloss:0.26871\n",
      "[25]\tvalidation_0-logloss:0.06220\tvalidation_1-logloss:0.26484\n",
      "[26]\tvalidation_0-logloss:0.05946\tvalidation_1-logloss:0.26604\n",
      "[27]\tvalidation_0-logloss:0.05688\tvalidation_1-logloss:0.26836\n",
      "[28]\tvalidation_0-logloss:0.05457\tvalidation_1-logloss:0.26746\n",
      "[29]\tvalidation_0-logloss:0.05161\tvalidation_1-logloss:0.26410\n",
      "[30]\tvalidation_0-logloss:0.04900\tvalidation_1-logloss:0.26314\n",
      "[31]\tvalidation_0-logloss:0.04658\tvalidation_1-logloss:0.26210\n",
      "[32]\tvalidation_0-logloss:0.04442\tvalidation_1-logloss:0.25918\n",
      "[33]\tvalidation_0-logloss:0.04293\tvalidation_1-logloss:0.25575\n",
      "[34]\tvalidation_0-logloss:0.04149\tvalidation_1-logloss:0.25681\n",
      "[35]\tvalidation_0-logloss:0.03991\tvalidation_1-logloss:0.25727\n",
      "[36]\tvalidation_0-logloss:0.03849\tvalidation_1-logloss:0.25710\n",
      "[37]\tvalidation_0-logloss:0.03702\tvalidation_1-logloss:0.25274\n",
      "[38]\tvalidation_0-logloss:0.03552\tvalidation_1-logloss:0.25427\n",
      "[39]\tvalidation_0-logloss:0.03441\tvalidation_1-logloss:0.25366\n",
      "[40]\tvalidation_0-logloss:0.03335\tvalidation_1-logloss:0.25410\n",
      "[41]\tvalidation_0-logloss:0.03259\tvalidation_1-logloss:0.25415\n",
      "[42]\tvalidation_0-logloss:0.03172\tvalidation_1-logloss:0.25421\n",
      "[43]\tvalidation_0-logloss:0.03110\tvalidation_1-logloss:0.25265\n",
      "[44]\tvalidation_0-logloss:0.03025\tvalidation_1-logloss:0.24974\n",
      "[45]\tvalidation_0-logloss:0.02961\tvalidation_1-logloss:0.25032\n",
      "[46]\tvalidation_0-logloss:0.02904\tvalidation_1-logloss:0.24858\n",
      "[47]\tvalidation_0-logloss:0.02849\tvalidation_1-logloss:0.25082\n",
      "[48]\tvalidation_0-logloss:0.02802\tvalidation_1-logloss:0.24968\n",
      "[49]\tvalidation_0-logloss:0.02741\tvalidation_1-logloss:0.24913\n",
      "[50]\tvalidation_0-logloss:0.02689\tvalidation_1-logloss:0.24924\n",
      "[51]\tvalidation_0-logloss:0.02644\tvalidation_1-logloss:0.24483\n",
      "[52]\tvalidation_0-logloss:0.02593\tvalidation_1-logloss:0.24508\n",
      "[53]\tvalidation_0-logloss:0.02534\tvalidation_1-logloss:0.24153\n",
      "[54]\tvalidation_0-logloss:0.02500\tvalidation_1-logloss:0.23781\n",
      "[55]\tvalidation_0-logloss:0.02458\tvalidation_1-logloss:0.23909\n",
      "[56]\tvalidation_0-logloss:0.02422\tvalidation_1-logloss:0.23809\n",
      "[57]\tvalidation_0-logloss:0.02380\tvalidation_1-logloss:0.23843\n",
      "[58]\tvalidation_0-logloss:0.02348\tvalidation_1-logloss:0.23802\n",
      "[59]\tvalidation_0-logloss:0.02310\tvalidation_1-logloss:0.23837\n",
      "[60]\tvalidation_0-logloss:0.02275\tvalidation_1-logloss:0.23923\n",
      "[61]\tvalidation_0-logloss:0.02257\tvalidation_1-logloss:0.23813\n",
      "[62]\tvalidation_0-logloss:0.02242\tvalidation_1-logloss:0.23983\n",
      "[63]\tvalidation_0-logloss:0.02227\tvalidation_1-logloss:0.23883\n",
      "[64]\tvalidation_0-logloss:0.02186\tvalidation_1-logloss:0.23589\n",
      "[65]\tvalidation_0-logloss:0.02162\tvalidation_1-logloss:0.23630\n",
      "[66]\tvalidation_0-logloss:0.02148\tvalidation_1-logloss:0.23795\n",
      "[67]\tvalidation_0-logloss:0.02136\tvalidation_1-logloss:0.23704\n",
      "[68]\tvalidation_0-logloss:0.02123\tvalidation_1-logloss:0.23670\n",
      "[69]\tvalidation_0-logloss:0.02097\tvalidation_1-logloss:0.23745\n",
      "[70]\tvalidation_0-logloss:0.02086\tvalidation_1-logloss:0.23740\n",
      "[71]\tvalidation_0-logloss:0.02073\tvalidation_1-logloss:0.23908\n",
      "[72]\tvalidation_0-logloss:0.02062\tvalidation_1-logloss:0.24064\n",
      "[73]\tvalidation_0-logloss:0.02050\tvalidation_1-logloss:0.23973\n",
      "[74]\tvalidation_0-logloss:0.02039\tvalidation_1-logloss:0.23971\n",
      "[75]\tvalidation_0-logloss:0.02029\tvalidation_1-logloss:0.23927\n",
      "[76]\tvalidation_0-logloss:0.02019\tvalidation_1-logloss:0.24081\n",
      "[77]\tvalidation_0-logloss:0.02008\tvalidation_1-logloss:0.24054\n",
      "[78]\tvalidation_0-logloss:0.01999\tvalidation_1-logloss:0.23844\n",
      "[79]\tvalidation_0-logloss:0.01989\tvalidation_1-logloss:0.23762\n",
      "[80]\tvalidation_0-logloss:0.01979\tvalidation_1-logloss:0.23914\n",
      "[81]\tvalidation_0-logloss:0.01969\tvalidation_1-logloss:0.23907\n",
      "[82]\tvalidation_0-logloss:0.01960\tvalidation_1-logloss:0.23830\n",
      "[83]\tvalidation_0-logloss:0.01951\tvalidation_1-logloss:0.23866\n",
      "[84]\tvalidation_0-logloss:0.01943\tvalidation_1-logloss:0.23841\n",
      "[85]\tvalidation_0-logloss:0.01933\tvalidation_1-logloss:0.23993\n",
      "[86]\tvalidation_0-logloss:0.01925\tvalidation_1-logloss:0.23917\n",
      "[87]\tvalidation_0-logloss:0.01916\tvalidation_1-logloss:0.24061\n",
      "[88]\tvalidation_0-logloss:0.01908\tvalidation_1-logloss:0.23862\n",
      "[89]\tvalidation_0-logloss:0.01900\tvalidation_1-logloss:0.23858\n",
      "[90]\tvalidation_0-logloss:0.01892\tvalidation_1-logloss:0.23843\n",
      "[91]\tvalidation_0-logloss:0.01884\tvalidation_1-logloss:0.23837\n",
      "[92]\tvalidation_0-logloss:0.01876\tvalidation_1-logloss:0.23978\n",
      "[93]\tvalidation_0-logloss:0.01868\tvalidation_1-logloss:0.23787\n",
      "[94]\tvalidation_0-logloss:0.01860\tvalidation_1-logloss:0.23862\n",
      "[95]\tvalidation_0-logloss:0.01853\tvalidation_1-logloss:0.23770\n",
      "[96]\tvalidation_0-logloss:0.01845\tvalidation_1-logloss:0.23767\n",
      "[97]\tvalidation_0-logloss:0.01838\tvalidation_1-logloss:0.23840\n",
      "[98]\tvalidation_0-logloss:0.01831\tvalidation_1-logloss:0.23817\n",
      "[99]\tvalidation_0-logloss:0.01824\tvalidation_1-logloss:0.23950\n",
      "[100]\tvalidation_0-logloss:0.01817\tvalidation_1-logloss:0.23945\n",
      "[101]\tvalidation_0-logloss:0.01809\tvalidation_1-logloss:0.23848\n",
      "[102]\tvalidation_0-logloss:0.01802\tvalidation_1-logloss:0.23668\n",
      "[103]\tvalidation_0-logloss:0.01795\tvalidation_1-logloss:0.23704\n",
      "[104]\tvalidation_0-logloss:0.01789\tvalidation_1-logloss:0.23536\n",
      "[105]\tvalidation_0-logloss:0.01781\tvalidation_1-logloss:0.23465\n",
      "[106]\tvalidation_0-logloss:0.01774\tvalidation_1-logloss:0.23536\n",
      "[107]\tvalidation_0-logloss:0.01768\tvalidation_1-logloss:0.23514\n",
      "[108]\tvalidation_0-logloss:0.01762\tvalidation_1-logloss:0.23447\n",
      "[109]\tvalidation_0-logloss:0.01756\tvalidation_1-logloss:0.23281\n",
      "[110]\tvalidation_0-logloss:0.01749\tvalidation_1-logloss:0.23447\n",
      "[111]\tvalidation_0-logloss:0.01743\tvalidation_1-logloss:0.23443\n",
      "[112]\tvalidation_0-logloss:0.01737\tvalidation_1-logloss:0.23512\n",
      "[113]\tvalidation_0-logloss:0.01731\tvalidation_1-logloss:0.23465\n",
      "[114]\tvalidation_0-logloss:0.01725\tvalidation_1-logloss:0.23379\n",
      "[115]\tvalidation_0-logloss:0.01719\tvalidation_1-logloss:0.23446\n",
      "[116]\tvalidation_0-logloss:0.01714\tvalidation_1-logloss:0.23443\n",
      "[117]\tvalidation_0-logloss:0.01708\tvalidation_1-logloss:0.23360\n",
      "[118]\tvalidation_0-logloss:0.01702\tvalidation_1-logloss:0.23195\n",
      "[119]\tvalidation_0-logloss:0.01696\tvalidation_1-logloss:0.23262\n",
      "[120]\tvalidation_0-logloss:0.01691\tvalidation_1-logloss:0.23104\n",
      "[121]\tvalidation_0-logloss:0.01685\tvalidation_1-logloss:0.23145\n",
      "[122]\tvalidation_0-logloss:0.01680\tvalidation_1-logloss:0.23143\n",
      "[123]\tvalidation_0-logloss:0.01675\tvalidation_1-logloss:0.23131\n",
      "[124]\tvalidation_0-logloss:0.01669\tvalidation_1-logloss:0.23119\n",
      "[125]\tvalidation_0-logloss:0.01664\tvalidation_1-logloss:0.22965\n",
      "[126]\tvalidation_0-logloss:0.01659\tvalidation_1-logloss:0.23120\n",
      "[127]\tvalidation_0-logloss:0.01654\tvalidation_1-logloss:0.23119\n",
      "[128]\tvalidation_0-logloss:0.01649\tvalidation_1-logloss:0.23110\n",
      "[129]\tvalidation_0-logloss:0.01644\tvalidation_1-logloss:0.22957\n"
     ]
    },
    {
     "name": "stdout",
     "output_type": "stream",
     "text": [
      "[130]\tvalidation_0-logloss:0.01639\tvalidation_1-logloss:0.22934\n",
      "[131]\tvalidation_0-logloss:0.01634\tvalidation_1-logloss:0.22987\n",
      "[132]\tvalidation_0-logloss:0.01629\tvalidation_1-logloss:0.22927\n",
      "[133]\tvalidation_0-logloss:0.01624\tvalidation_1-logloss:0.23076\n",
      "[134]\tvalidation_0-logloss:0.01620\tvalidation_1-logloss:0.23030\n",
      "[135]\tvalidation_0-logloss:0.01615\tvalidation_1-logloss:0.22891\n",
      "[136]\tvalidation_0-logloss:0.01610\tvalidation_1-logloss:0.22883\n",
      "[137]\tvalidation_0-logloss:0.01606\tvalidation_1-logloss:0.22882\n",
      "[138]\tvalidation_0-logloss:0.01601\tvalidation_1-logloss:0.22876\n",
      "[139]\tvalidation_0-logloss:0.01597\tvalidation_1-logloss:0.22734\n",
      "[140]\tvalidation_0-logloss:0.01592\tvalidation_1-logloss:0.22882\n",
      "[141]\tvalidation_0-logloss:0.01588\tvalidation_1-logloss:0.22935\n",
      "[142]\tvalidation_0-logloss:0.01583\tvalidation_1-logloss:0.22880\n",
      "[143]\tvalidation_0-logloss:0.01579\tvalidation_1-logloss:0.22856\n",
      "[144]\tvalidation_0-logloss:0.01575\tvalidation_1-logloss:0.22725\n",
      "[145]\tvalidation_0-logloss:0.01571\tvalidation_1-logloss:0.22739\n",
      "[146]\tvalidation_0-logloss:0.01567\tvalidation_1-logloss:0.22724\n",
      "[147]\tvalidation_0-logloss:0.01562\tvalidation_1-logloss:0.22777\n",
      "[148]\tvalidation_0-logloss:0.01558\tvalidation_1-logloss:0.22726\n",
      "[149]\tvalidation_0-logloss:0.01555\tvalidation_1-logloss:0.22721\n",
      "[150]\tvalidation_0-logloss:0.01551\tvalidation_1-logloss:0.22697\n",
      "[151]\tvalidation_0-logloss:0.01546\tvalidation_1-logloss:0.22645\n",
      "[152]\tvalidation_0-logloss:0.01543\tvalidation_1-logloss:0.22782\n",
      "[153]\tvalidation_0-logloss:0.01539\tvalidation_1-logloss:0.22790\n",
      "[154]\tvalidation_0-logloss:0.01535\tvalidation_1-logloss:0.22665\n",
      "[155]\tvalidation_0-logloss:0.01531\tvalidation_1-logloss:0.22680\n",
      "[156]\tvalidation_0-logloss:0.01528\tvalidation_1-logloss:0.22732\n",
      "[157]\tvalidation_0-logloss:0.01524\tvalidation_1-logloss:0.22709\n",
      "[158]\tvalidation_0-logloss:0.01520\tvalidation_1-logloss:0.22659\n",
      "[159]\tvalidation_0-logloss:0.01516\tvalidation_1-logloss:0.22616\n",
      "[160]\tvalidation_0-logloss:0.01513\tvalidation_1-logloss:0.22631\n",
      "[161]\tvalidation_0-logloss:0.01509\tvalidation_1-logloss:0.22510\n",
      "[162]\tvalidation_0-logloss:0.01506\tvalidation_1-logloss:0.22562\n",
      "[163]\tvalidation_0-logloss:0.01502\tvalidation_1-logloss:0.22539\n",
      "[164]\tvalidation_0-logloss:0.01499\tvalidation_1-logloss:0.22671\n",
      "[165]\tvalidation_0-logloss:0.01495\tvalidation_1-logloss:0.22625\n",
      "[166]\tvalidation_0-logloss:0.01492\tvalidation_1-logloss:0.22585\n",
      "[167]\tvalidation_0-logloss:0.01488\tvalidation_1-logloss:0.22583\n",
      "[168]\tvalidation_0-logloss:0.01485\tvalidation_1-logloss:0.22562\n",
      "[169]\tvalidation_0-logloss:0.01482\tvalidation_1-logloss:0.22520\n",
      "[170]\tvalidation_0-logloss:0.01479\tvalidation_1-logloss:0.22570\n",
      "[171]\tvalidation_0-logloss:0.01476\tvalidation_1-logloss:0.22587\n",
      "[172]\tvalidation_0-logloss:0.01472\tvalidation_1-logloss:0.22466\n",
      "[173]\tvalidation_0-logloss:0.01469\tvalidation_1-logloss:0.22592\n",
      "[174]\tvalidation_0-logloss:0.01466\tvalidation_1-logloss:0.22599\n",
      "[175]\tvalidation_0-logloss:0.01463\tvalidation_1-logloss:0.22556\n",
      "[176]\tvalidation_0-logloss:0.01460\tvalidation_1-logloss:0.22535\n",
      "[177]\tvalidation_0-logloss:0.01457\tvalidation_1-logloss:0.22655\n",
      "[178]\tvalidation_0-logloss:0.01454\tvalidation_1-logloss:0.22674\n",
      "[179]\tvalidation_0-logloss:0.01451\tvalidation_1-logloss:0.22565\n",
      "[180]\tvalidation_0-logloss:0.01448\tvalidation_1-logloss:0.22565\n",
      "[181]\tvalidation_0-logloss:0.01445\tvalidation_1-logloss:0.22526\n",
      "[182]\tvalidation_0-logloss:0.01442\tvalidation_1-logloss:0.22545\n",
      "[183]\tvalidation_0-logloss:0.01439\tvalidation_1-logloss:0.22504\n",
      "[184]\tvalidation_0-logloss:0.01436\tvalidation_1-logloss:0.22554\n",
      "[185]\tvalidation_0-logloss:0.01433\tvalidation_1-logloss:0.22533\n",
      "[186]\tvalidation_0-logloss:0.01431\tvalidation_1-logloss:0.22427\n",
      "[187]\tvalidation_0-logloss:0.01428\tvalidation_1-logloss:0.22545\n",
      "[188]\tvalidation_0-logloss:0.01425\tvalidation_1-logloss:0.22563\n",
      "[189]\tvalidation_0-logloss:0.01422\tvalidation_1-logloss:0.22525\n",
      "[190]\tvalidation_0-logloss:0.01419\tvalidation_1-logloss:0.22504\n",
      "[191]\tvalidation_0-logloss:0.01417\tvalidation_1-logloss:0.22523\n",
      "[192]\tvalidation_0-logloss:0.01414\tvalidation_1-logloss:0.22529\n",
      "[193]\tvalidation_0-logloss:0.01411\tvalidation_1-logloss:0.22492\n",
      "[194]\tvalidation_0-logloss:0.01409\tvalidation_1-logloss:0.22472\n",
      "[195]\tvalidation_0-logloss:0.01406\tvalidation_1-logloss:0.22589\n",
      "[196]\tvalidation_0-logloss:0.01403\tvalidation_1-logloss:0.22595\n",
      "[197]\tvalidation_0-logloss:0.01401\tvalidation_1-logloss:0.22646\n",
      "[198]\tvalidation_0-logloss:0.01399\tvalidation_1-logloss:0.22665\n",
      "[199]\tvalidation_0-logloss:0.01396\tvalidation_1-logloss:0.22628\n",
      "[200]\tvalidation_0-logloss:0.01393\tvalidation_1-logloss:0.22609\n",
      "[201]\tvalidation_0-logloss:0.01391\tvalidation_1-logloss:0.22572\n",
      "[202]\tvalidation_0-logloss:0.01389\tvalidation_1-logloss:0.22536\n",
      "[203]\tvalidation_0-logloss:0.01386\tvalidation_1-logloss:0.22586\n",
      "[204]\tvalidation_0-logloss:0.01384\tvalidation_1-logloss:0.22568\n",
      "[205]\tvalidation_0-logloss:0.01382\tvalidation_1-logloss:0.22678\n",
      "[206]\tvalidation_0-logloss:0.01379\tvalidation_1-logloss:0.22642\n",
      "[207]\tvalidation_0-logloss:0.01377\tvalidation_1-logloss:0.22690\n",
      "[208]\tvalidation_0-logloss:0.01375\tvalidation_1-logloss:0.22710\n",
      "[209]\tvalidation_0-logloss:0.01373\tvalidation_1-logloss:0.22676\n",
      "[210]\tvalidation_0-logloss:0.01370\tvalidation_1-logloss:0.22643\n",
      "[211]\tvalidation_0-logloss:0.01368\tvalidation_1-logloss:0.22624\n",
      "[212]\tvalidation_0-logloss:0.01366\tvalidation_1-logloss:0.22727\n",
      "[213]\tvalidation_0-logloss:0.01364\tvalidation_1-logloss:0.22693\n",
      "[214]\tvalidation_0-logloss:0.01362\tvalidation_1-logloss:0.22675\n",
      "[215]\tvalidation_0-logloss:0.01360\tvalidation_1-logloss:0.22644\n",
      "[216]\tvalidation_0-logloss:0.01357\tvalidation_1-logloss:0.22665\n",
      "[217]\tvalidation_0-logloss:0.01355\tvalidation_1-logloss:0.22685\n",
      "[218]\tvalidation_0-logloss:0.01353\tvalidation_1-logloss:0.22653\n",
      "[219]\tvalidation_0-logloss:0.01352\tvalidation_1-logloss:0.22622\n",
      "[220]\tvalidation_0-logloss:0.01350\tvalidation_1-logloss:0.22641\n",
      "[221]\tvalidation_0-logloss:0.01348\tvalidation_1-logloss:0.22613\n",
      "[222]\tvalidation_0-logloss:0.01346\tvalidation_1-logloss:0.22594\n",
      "[223]\tvalidation_0-logloss:0.01344\tvalidation_1-logloss:0.22641\n",
      "[224]\tvalidation_0-logloss:0.01342\tvalidation_1-logloss:0.22624\n",
      "[225]\tvalidation_0-logloss:0.01340\tvalidation_1-logloss:0.22668\n",
      "[226]\tvalidation_0-logloss:0.01338\tvalidation_1-logloss:0.22766\n",
      "[227]\tvalidation_0-logloss:0.01336\tvalidation_1-logloss:0.22736\n",
      "[228]\tvalidation_0-logloss:0.01334\tvalidation_1-logloss:0.22706\n",
      "[229]\tvalidation_0-logloss:0.01333\tvalidation_1-logloss:0.22727\n",
      "[230]\tvalidation_0-logloss:0.01331\tvalidation_1-logloss:0.22709\n",
      "[231]\tvalidation_0-logloss:0.01329\tvalidation_1-logloss:0.22694\n",
      "[232]\tvalidation_0-logloss:0.01327\tvalidation_1-logloss:0.22706\n",
      "[233]\tvalidation_0-logloss:0.01325\tvalidation_1-logloss:0.22676\n",
      "[234]\tvalidation_0-logloss:0.01324\tvalidation_1-logloss:0.22773\n",
      "[235]\tvalidation_0-logloss:0.01322\tvalidation_1-logloss:0.22743\n",
      "오차 행렬\n",
      "[[35  2]\n",
      " [ 2 75]]\n",
      "정확도: 0.9649, 정밀도: 0.9740, 재현율: 0.9740, F1: 0.9740, AUC: 0.9944\n"
     ]
    }
   ],
   "source": [
    "# 도출된 최적 하이퍼파라미터 이용하여 XGBClassifier 재학습\n",
    "xgb_wrapper = XGBClassifier(n_estimators=400,\n",
    "                           learning_rate=round(best['learning_rate'], 5),\n",
    "                           max_depth=int(best['max_depth']),\n",
    "                           min_child_weight=int(best['min_child_weight']),\n",
    "                           colsample_bytree=round(best['colsample_bytree'], 5)\n",
    "                           )\n",
    "\n",
    "evals = [(X_tr, y_tr), (X_val, y_val)]\n",
    "xgb_wrapper.fit(X_tr, y_tr, early_stopping_rounds=50, eval_metric='logloss',\n",
    "               eval_set=evals, verbose=True)\n",
    "\n",
    "preds = xgb_wrapper.predict(X_test)\n",
    "pred_proba = xgb_wrapper.predict_proba(X_test)[:, 1]\n",
    "\n",
    "get_clf_eval(y_test, preds, pred_proba)"
   ]
  },
  {
   "cell_type": "markdown",
   "id": "b47766a7",
   "metadata": {},
   "source": [
    "  "
   ]
  },
  {
   "cell_type": "markdown",
   "id": "d192fa3a",
   "metadata": {},
   "source": [
    "### 스태킹 앙상블"
   ]
  },
  {
   "cell_type": "code",
   "execution_count": 15,
   "id": "5e6c4d98",
   "metadata": {},
   "outputs": [],
   "source": [
    "import numpy as np\n",
    "\n",
    "from sklearn.neighbors import KNeighborsClassifier\n",
    "from sklearn.ensemble import RandomForestClassifier\n",
    "from sklearn.ensemble import AdaBoostClassifier\n",
    "from sklearn.tree import DecisionTreeClassifier\n",
    "from sklearn.linear_model import LogisticRegression\n",
    "\n",
    "from sklearn.datasets import load_breast_cancer\n",
    "from sklearn.model_selection import train_test_split\n",
    "from sklearn.metrics import accuracy_score\n",
    "\n",
    "cancer_data = load_breast_cancer()\n",
    "\n",
    "X_data = cancer_data.data\n",
    "y_label = cancer_data.target\n",
    "\n",
    "X_train, X_test, y_train, y_test = train_test_split(X_data, y_label, test_size=0.2, random_state=0)"
   ]
  },
  {
   "cell_type": "code",
   "execution_count": 16,
   "id": "70e5350e",
   "metadata": {},
   "outputs": [],
   "source": [
    "# 스태킹에 쓰일 개별 모델(기반 모델) 각각 생성\n",
    "knn_clf = KNeighborsClassifier(n_neighbors=4)\n",
    "rf_clf = RandomForestClassifier(n_estimators=100, random_state=0)\n",
    "dt_clf = DecisionTreeClassifier()\n",
    "ada_clf = AdaBoostClassifier(n_estimators=100)\n",
    "\n",
    "# 최종 모델 (로지스틱 회귀)\n",
    "lr_final = LogisticRegression()"
   ]
  },
  {
   "cell_type": "code",
   "execution_count": 17,
   "id": "7aff4a3b",
   "metadata": {},
   "outputs": [
    {
     "data": {
      "text/html": [
       "<style>#sk-container-id-1 {color: black;}#sk-container-id-1 pre{padding: 0;}#sk-container-id-1 div.sk-toggleable {background-color: white;}#sk-container-id-1 label.sk-toggleable__label {cursor: pointer;display: block;width: 100%;margin-bottom: 0;padding: 0.3em;box-sizing: border-box;text-align: center;}#sk-container-id-1 label.sk-toggleable__label-arrow:before {content: \"▸\";float: left;margin-right: 0.25em;color: #696969;}#sk-container-id-1 label.sk-toggleable__label-arrow:hover:before {color: black;}#sk-container-id-1 div.sk-estimator:hover label.sk-toggleable__label-arrow:before {color: black;}#sk-container-id-1 div.sk-toggleable__content {max-height: 0;max-width: 0;overflow: hidden;text-align: left;background-color: #f0f8ff;}#sk-container-id-1 div.sk-toggleable__content pre {margin: 0.2em;color: black;border-radius: 0.25em;background-color: #f0f8ff;}#sk-container-id-1 input.sk-toggleable__control:checked~div.sk-toggleable__content {max-height: 200px;max-width: 100%;overflow: auto;}#sk-container-id-1 input.sk-toggleable__control:checked~label.sk-toggleable__label-arrow:before {content: \"▾\";}#sk-container-id-1 div.sk-estimator input.sk-toggleable__control:checked~label.sk-toggleable__label {background-color: #d4ebff;}#sk-container-id-1 div.sk-label input.sk-toggleable__control:checked~label.sk-toggleable__label {background-color: #d4ebff;}#sk-container-id-1 input.sk-hidden--visually {border: 0;clip: rect(1px 1px 1px 1px);clip: rect(1px, 1px, 1px, 1px);height: 1px;margin: -1px;overflow: hidden;padding: 0;position: absolute;width: 1px;}#sk-container-id-1 div.sk-estimator {font-family: monospace;background-color: #f0f8ff;border: 1px dotted black;border-radius: 0.25em;box-sizing: border-box;margin-bottom: 0.5em;}#sk-container-id-1 div.sk-estimator:hover {background-color: #d4ebff;}#sk-container-id-1 div.sk-parallel-item::after {content: \"\";width: 100%;border-bottom: 1px solid gray;flex-grow: 1;}#sk-container-id-1 div.sk-label:hover label.sk-toggleable__label {background-color: #d4ebff;}#sk-container-id-1 div.sk-serial::before {content: \"\";position: absolute;border-left: 1px solid gray;box-sizing: border-box;top: 0;bottom: 0;left: 50%;z-index: 0;}#sk-container-id-1 div.sk-serial {display: flex;flex-direction: column;align-items: center;background-color: white;padding-right: 0.2em;padding-left: 0.2em;position: relative;}#sk-container-id-1 div.sk-item {position: relative;z-index: 1;}#sk-container-id-1 div.sk-parallel {display: flex;align-items: stretch;justify-content: center;background-color: white;position: relative;}#sk-container-id-1 div.sk-item::before, #sk-container-id-1 div.sk-parallel-item::before {content: \"\";position: absolute;border-left: 1px solid gray;box-sizing: border-box;top: 0;bottom: 0;left: 50%;z-index: -1;}#sk-container-id-1 div.sk-parallel-item {display: flex;flex-direction: column;z-index: 1;position: relative;background-color: white;}#sk-container-id-1 div.sk-parallel-item:first-child::after {align-self: flex-end;width: 50%;}#sk-container-id-1 div.sk-parallel-item:last-child::after {align-self: flex-start;width: 50%;}#sk-container-id-1 div.sk-parallel-item:only-child::after {width: 0;}#sk-container-id-1 div.sk-dashed-wrapped {border: 1px dashed gray;margin: 0 0.4em 0.5em 0.4em;box-sizing: border-box;padding-bottom: 0.4em;background-color: white;}#sk-container-id-1 div.sk-label label {font-family: monospace;font-weight: bold;display: inline-block;line-height: 1.2em;}#sk-container-id-1 div.sk-label-container {text-align: center;}#sk-container-id-1 div.sk-container {/* jupyter's `normalize.less` sets `[hidden] { display: none; }` but bootstrap.min.css set `[hidden] { display: none !important; }` so we also need the `!important` here to be able to override the default hidden behavior on the sphinx rendered scikit-learn.org. See: https://github.com/scikit-learn/scikit-learn/issues/21755 */display: inline-block !important;position: relative;}#sk-container-id-1 div.sk-text-repr-fallback {display: none;}</style><div id=\"sk-container-id-1\" class=\"sk-top-container\"><div class=\"sk-text-repr-fallback\"><pre>AdaBoostClassifier(n_estimators=100)</pre><b>In a Jupyter environment, please rerun this cell to show the HTML representation or trust the notebook. <br />On GitHub, the HTML representation is unable to render, please try loading this page with nbviewer.org.</b></div><div class=\"sk-container\" hidden><div class=\"sk-item\"><div class=\"sk-estimator sk-toggleable\"><input class=\"sk-toggleable__control sk-hidden--visually\" id=\"sk-estimator-id-1\" type=\"checkbox\" checked><label for=\"sk-estimator-id-1\" class=\"sk-toggleable__label sk-toggleable__label-arrow\">AdaBoostClassifier</label><div class=\"sk-toggleable__content\"><pre>AdaBoostClassifier(n_estimators=100)</pre></div></div></div></div></div>"
      ],
      "text/plain": [
       "AdaBoostClassifier(n_estimators=100)"
      ]
     },
     "execution_count": 17,
     "metadata": {},
     "output_type": "execute_result"
    }
   ],
   "source": [
    "# 개별 모델 학습\n",
    "knn_clf.fit(X_train, y_train)\n",
    "rf_clf.fit(X_train, y_train)\n",
    "dt_clf.fit(X_train, y_train)\n",
    "ada_clf.fit(X_train, y_train)"
   ]
  },
  {
   "cell_type": "code",
   "execution_count": 18,
   "id": "98b09e9c",
   "metadata": {},
   "outputs": [
    {
     "name": "stdout",
     "output_type": "stream",
     "text": [
      "KNN 정확도: 0.9211\n",
      "랜덤 포레스트 정확도: 0.9649\n",
      "결정 트리 정확도: 0.9123\n",
      "에이다부스트 정확도: 0.9561\n"
     ]
    }
   ],
   "source": [
    "# 개별 모델이 각자 반환하는 예측 데이터 세트 생성\n",
    "knn_pred = knn_clf.predict(X_test)\n",
    "rf_pred = rf_clf.predict(X_test)\n",
    "dt_pred = dt_clf.predict(X_test)\n",
    "ada_pred = ada_clf.predict(X_test)\n",
    "\n",
    "# 각 정확도 측정\n",
    "print('KNN 정확도: {0:.4f}'.format(accuracy_score(y_test, knn_pred)))\n",
    "print('랜덤 포레스트 정확도: {0:.4f}'.format(accuracy_score(y_test, rf_pred)))\n",
    "print('결정 트리 정확도: {0:.4f}'.format(accuracy_score(y_test, dt_pred)))\n",
    "print('에이다부스트 정확도: {0:.4f}'.format(accuracy_score(y_test, ada_pred)))"
   ]
  },
  {
   "cell_type": "code",
   "execution_count": 19,
   "id": "6600e0c3",
   "metadata": {},
   "outputs": [
    {
     "name": "stdout",
     "output_type": "stream",
     "text": [
      "(4, 114)\n",
      "(114, 4)\n"
     ]
    }
   ],
   "source": [
    "pred = np.array([knn_pred, rf_pred, dt_pred, ada_pred])\n",
    "print(pred.shape)\n",
    "\n",
    "# 행 열 위치 교환, 칼럼레벨로 각 알고리즘의 예측 결과를 피처로 만듦\n",
    "pred = np.transpose(pred)\n",
    "print(pred.shape)"
   ]
  },
  {
   "cell_type": "code",
   "execution_count": 20,
   "id": "6e0e4aa4",
   "metadata": {},
   "outputs": [
    {
     "name": "stdout",
     "output_type": "stream",
     "text": [
      "최종 메타 모델의 예측 정확도: 0.9649\n"
     ]
    }
   ],
   "source": [
    "lr_final.fit(pred, y_test)\n",
    "final = lr_final.predict(pred)\n",
    "\n",
    "print('최종 메타 모델의 예측 정확도: {0:.4f}'.format(accuracy_score(y_test, final)))"
   ]
  },
  {
   "cell_type": "markdown",
   "id": "e41415c1",
   "metadata": {},
   "source": [
    "  "
   ]
  },
  {
   "cell_type": "markdown",
   "id": "052ae2c6",
   "metadata": {},
   "source": [
    "### CV 세트 기반 스태킹"
   ]
  },
  {
   "cell_type": "code",
   "execution_count": 24,
   "id": "d74d1805",
   "metadata": {},
   "outputs": [],
   "source": [
    "from sklearn.model_selection import KFold\n",
    "from sklearn.metrics import mean_absolute_error\n",
    "\n",
    "\n",
    "# 개별 기반 모델에서 최종 메타 모델이 사용할 학습/테스트용 데이터 생성하기 위한 함수\n",
    "def get_stacking_base_datasets(model, X_train_n, y_train_n, X_test_n, n_folds):\n",
    "    \n",
    "    # KFold 생성 (n_folds값 이용)\n",
    "    kf = KFold(n_splits=n_folds, shuffle=False)\n",
    "    \n",
    "    # 초기화\n",
    "    train_fold_pred = np.zeros((X_train_n.shape[0], 1))\n",
    "    test_pred = np.zeros((X_test_n.shape[0], n_folds))\n",
    "    print(model.__class__.__name__, ' model 시작 ')\n",
    "    \n",
    "    for folder_counter, (train_index, valid_index) in enumerate(kf.split(X_train_n)):\n",
    "        print('\\t 폴드 세트: ', folder_counter, ' 시작')\n",
    "        X_tr = X_train_n[train_index]\n",
    "        y_tr = y_train_n[train_index]\n",
    "        X_te = X_train_n[valid_index]\n",
    "        \n",
    "        # 폴드세트 내부에서 다시 만들어진 '학습' 데이터로 기반 모델 학습 수행\n",
    "        model.fit(X_tr, y_tr)\n",
    "        \n",
    "        # 폴드세트 내부에서 다시 만들어진 '검증' 데이터로 기반 모델 예측 후 데이터 저장\n",
    "        train_fold_pred[valid_index, :] = model.predict(X_te).reshape(-1, 1)\n",
    "        \n",
    "        test_pred[:, folder_counter] = model.predict(X_test_n)\n",
    "        \n",
    "    test_pred_mean = np.mean(test_pred, axis=1).reshape(-1, 1)\n",
    "    \n",
    "    \n",
    "    # 메타 모델이 사용하는 학습 데이터, 테스트 데이터 리턴\n",
    "    return train_fold_pred, test_pred_mean"
   ]
  },
  {
   "cell_type": "code",
   "execution_count": 25,
   "id": "be7354eb",
   "metadata": {},
   "outputs": [
    {
     "name": "stdout",
     "output_type": "stream",
     "text": [
      "KNeighborsClassifier  model 시작 \n",
      "\t 폴드 세트:  0  시작\n",
      "\t 폴드 세트:  1  시작\n",
      "\t 폴드 세트:  2  시작\n",
      "\t 폴드 세트:  3  시작\n",
      "\t 폴드 세트:  4  시작\n",
      "\t 폴드 세트:  5  시작\n",
      "\t 폴드 세트:  6  시작\n",
      "RandomForestClassifier  model 시작 \n",
      "\t 폴드 세트:  0  시작\n",
      "\t 폴드 세트:  1  시작\n",
      "\t 폴드 세트:  2  시작\n",
      "\t 폴드 세트:  3  시작\n",
      "\t 폴드 세트:  4  시작\n",
      "\t 폴드 세트:  5  시작\n",
      "\t 폴드 세트:  6  시작\n",
      "DecisionTreeClassifier  model 시작 \n",
      "\t 폴드 세트:  0  시작\n",
      "\t 폴드 세트:  1  시작\n",
      "\t 폴드 세트:  2  시작\n",
      "\t 폴드 세트:  3  시작\n",
      "\t 폴드 세트:  4  시작\n",
      "\t 폴드 세트:  5  시작\n",
      "\t 폴드 세트:  6  시작\n",
      "AdaBoostClassifier  model 시작 \n",
      "\t 폴드 세트:  0  시작\n",
      "\t 폴드 세트:  1  시작\n",
      "\t 폴드 세트:  2  시작\n",
      "\t 폴드 세트:  3  시작\n",
      "\t 폴드 세트:  4  시작\n",
      "\t 폴드 세트:  5  시작\n",
      "\t 폴드 세트:  6  시작\n"
     ]
    }
   ],
   "source": [
    "knn_train, knn_test = get_stacking_base_datasets(knn_clf, X_train, y_train, X_test, 7)\n",
    "rf_train, rf_test = get_stacking_base_datasets(rf_clf, X_train, y_train, X_test, 7)\n",
    "dt_train, dt_test = get_stacking_base_datasets(dt_clf, X_train, y_train, X_test, 7)\n",
    "ada_train, ada_test = get_stacking_base_datasets(ada_clf, X_train, y_train, X_test, 7)"
   ]
  },
  {
   "cell_type": "code",
   "execution_count": 26,
   "id": "e37621a5",
   "metadata": {},
   "outputs": [
    {
     "name": "stdout",
     "output_type": "stream",
     "text": [
      "원본 학습 피처 데이터 shape: (455, 30) 원본 테스트 피처 shape: (114, 30)\n",
      "스태킹 학습 피처 데이터 shape: (455, 4) 스태킹 테스트 피처 데이터 shape: (114, 4)\n"
     ]
    }
   ],
   "source": [
    "stack_final_X_train = np.concatenate((knn_train, rf_train, dt_train, ada_train), axis=1)\n",
    "stack_final_X_test = np.concatenate((knn_test, rf_test, dt_test, ada_test), axis=1)\n",
    "print('원본 학습 피처 데이터 shape:', X_train.shape, '원본 테스트 피처 shape:', X_test.shape)\n",
    "print('스태킹 학습 피처 데이터 shape:', stack_final_X_train.shape,\n",
    "     '스태킹 테스트 피처 데이터 shape:', stack_final_X_test.shape)"
   ]
  },
  {
   "cell_type": "code",
   "execution_count": 27,
   "id": "de5f4bc3",
   "metadata": {},
   "outputs": [
    {
     "name": "stdout",
     "output_type": "stream",
     "text": [
      "메타 모델의 예측 정확도: 0.9737\n"
     ]
    }
   ],
   "source": [
    "# 학습 및 예측 수행\n",
    "lr_final.fit(stack_final_X_train, y_train)\n",
    "stack_final = lr_final.predict(stack_final_X_test)\n",
    "\n",
    "print('메타 모델의 예측 정확도: {0:.4f}'.format(accuracy_score(y_test, stack_final)))"
   ]
  },
  {
   "cell_type": "code",
   "execution_count": null,
   "id": "a802cd8f",
   "metadata": {},
   "outputs": [],
   "source": []
  }
 ],
 "metadata": {
  "kernelspec": {
   "display_name": "Python 3 (ipykernel)",
   "language": "python",
   "name": "python3"
  },
  "language_info": {
   "codemirror_mode": {
    "name": "ipython",
    "version": 3
   },
   "file_extension": ".py",
   "mimetype": "text/x-python",
   "name": "python",
   "nbconvert_exporter": "python",
   "pygments_lexer": "ipython3",
   "version": "3.9.18"
  }
 },
 "nbformat": 4,
 "nbformat_minor": 5
}
